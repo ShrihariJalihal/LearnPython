{
  "nbformat": 4,
  "nbformat_minor": 0,
  "metadata": {
    "colab": {
      "private_outputs": true,
      "provenance": [],
      "include_colab_link": true
    },
    "kernelspec": {
      "name": "python3",
      "display_name": "Python 3"
    },
    "language_info": {
      "name": "python"
    }
  },
  "cells": [
    {
      "cell_type": "markdown",
      "metadata": {
        "id": "view-in-github",
        "colab_type": "text"
      },
      "source": [
        "<a href=\"https://colab.research.google.com/github/ShrihariJalihal/LearnPython/blob/main/SNB_1_Variables%2C_Statements_and_Expressions.ipynb\" target=\"_parent\"><img src=\"https://colab.research.google.com/assets/colab-badge.svg\" alt=\"Open In Colab\"/></a>"
      ]
    },
    {
      "cell_type": "markdown",
      "source": [
        "## Practice Notebook\n",
        "\n",
        "\n"
      ],
      "metadata": {
        "id": "rr5USj--ql23"
      }
    },
    {
      "cell_type": "markdown",
      "source": [
        "#### Exercise 1: Check the type for the following\n",
        "\n",
        "1. a = 6\n",
        "2. b = 6.4\n",
        "3. c = \"Hello\"\n",
        "4. d = \"17\"\n",
        "4. print e = a + b and check the type of e\n"
      ],
      "metadata": {
        "id": "uMAWvCJ3ml1z"
      }
    },
    {
      "cell_type": "code",
      "source": [
        "a = 6\n",
        "b = 6.4\n",
        "c = \"Hello\"\n",
        "d = \"17\"\n",
        "e = a + b\n",
        "print(\"type of a is\",type(a))\n",
        "print(\"type of b is\", type(b))\n",
        "print(\"type of c is\", type(c))\n",
        "print(\"type of d is\", type(d))\n",
        "print(\"type of e is\", type(e))"
      ],
      "metadata": {
        "id": "4qtzueBAmPhi"
      },
      "execution_count": null,
      "outputs": []
    },
    {
      "cell_type": "markdown",
      "source": [
        "#### Exercise 2: The goal of this exercise is to determine types and then change those types.Perform the following\n",
        "\n",
        "1. convert 7.999999999 to an int\n",
        "2. Convert 6 to a float"
      ],
      "metadata": {
        "id": "KA_glXMvoass"
      }
    },
    {
      "cell_type": "code",
      "source": [
        "print(int(7.999999999))\n",
        "print(float(6))"
      ],
      "metadata": {
        "id": "LgettyQFpG04"
      },
      "execution_count": null,
      "outputs": []
    },
    {
      "cell_type": "markdown",
      "source": [
        "#### Exercise 3: The goal of this exercise is to assign values to variables. Variables can be assigned any value.\n",
        "\n",
        "1. Assign value 2 to the x variable and print x\n",
        "2. Add 1 to the variable x check the output\n",
        "3. Change x to 3.0 and add 1 to x"
      ],
      "metadata": {
        "id": "l7uH5N8VpPM6"
      }
    },
    {
      "cell_type": "code",
      "source": [
        "x = 2\n",
        "print(x)\n",
        "x =  x + 1\n",
        "print(x)\n",
        "x = 3.0\n",
        "print(x + 1)"
      ],
      "metadata": {
        "id": "5cBdV5CDrMoX"
      },
      "execution_count": null,
      "outputs": []
    },
    {
      "cell_type": "markdown",
      "source": [
        "#### Exercise 4: The goal of this exercise is to learn standard ways to name variables by considering good and bad practices\n",
        "\n",
        "1. Create a variable called 1st_number and assign it a value of 1. Then check the output"
      ],
      "metadata": {
        "id": "wU3o9jXmr-3a"
      }
    },
    {
      "cell_type": "code",
      "source": [
        "1st_number = 1\n",
        "print(1st_number)"
      ],
      "metadata": {
        "id": "TaiM1rC9semk"
      },
      "execution_count": null,
      "outputs": []
    },
    {
      "cell_type": "markdown",
      "source": [
        "#### Exercise 5 : Perform mathematical operations using more than one variable.\n",
        "\n",
        "1. Assign 5 to x and 2 to y\n",
        "2. Add x to x and subtract y to the second power than assign to the variable z. print the z \n",
        "3. Assign 8 to x and 5 to y in one line\n",
        "4. Find the integer division of x and y check the output.\n"
      ],
      "metadata": {
        "id": "z7qtHTljs8aP"
      }
    },
    {
      "cell_type": "code",
      "source": [
        "x = 5\n",
        "y = 2\n",
        "\n",
        "z = x + x - y ** 2\n",
        "print(z)\n",
        "\n",
        "x, y = 8, 5\n",
        "print(x//y)"
      ],
      "metadata": {
        "id": "Y3cOzdvJtMOv"
      },
      "execution_count": null,
      "outputs": []
    },
    {
      "cell_type": "markdown",
      "source": [
        "#### Exercise6: For given a and b values perform the following:\n",
        "\n",
        "1. Perform addition on a and b  using the + operator\n",
        "2. Perform subtraction on a and b  using the - operator\n",
        "3. Use the * multiplication operator to multiply the a and b\n",
        "4. Use the / division operator and observe the output\n"
      ],
      "metadata": {
        "id": "E8WFcjawkAF4"
      }
    },
    {
      "cell_type": "code",
      "execution_count": null,
      "metadata": {
        "id": "thrKVuvfhocd"
      },
      "outputs": [],
      "source": [
        " a = 5\n",
        " b = 2\n",
        "\n",
        " print(\"addition of a + b = \", a + b)\n",
        " print(\"subraction of a - b =\", a - b)\n",
        " print(\"multiplication of a * b is \", a * b)\n",
        " print(\"a divided by b is\", a // b)"
      ]
    },
    {
      "cell_type": "markdown",
      "source": [
        "#### Exercise 7: Perform the following:\n",
        "\n",
        "1. Add '5' and '7' by converting them to int \n",
        "2. Determine the type of '5'\n",
        "3. Add '5' and '7"
      ],
      "metadata": {
        "id": "9pajWy3dun3S"
      }
    },
    {
      "cell_type": "code",
      "source": [
        "a = int('5') + int('7')\n",
        "print(a)\n",
        "\n",
        "print(type(5))\n",
        "\n",
        "print('5' + '7')"
      ],
      "metadata": {
        "id": "qOKRdzuPu5--"
      },
      "execution_count": null,
      "outputs": []
    },
    {
      "cell_type": "code",
      "source": [],
      "metadata": {
        "id": "pnPdb9ZWu9E6"
      },
      "execution_count": null,
      "outputs": []
    }
  ]
}