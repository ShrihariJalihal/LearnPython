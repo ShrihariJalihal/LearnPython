{
  "nbformat": 4,
  "nbformat_minor": 0,
  "metadata": {
    "colab": {
      "provenance": [],
      "include_colab_link": true
    },
    "kernelspec": {
      "name": "python3",
      "display_name": "Python 3"
    },
    "language_info": {
      "name": "python"
    }
  },
  "cells": [
    {
      "cell_type": "markdown",
      "metadata": {
        "id": "view-in-github",
        "colab_type": "text"
      },
      "source": [
        "<a href=\"https://colab.research.google.com/github/ShrihariJalihal/LearnPython/blob/main/SNB_5_Strings.ipynb\" target=\"_parent\"><img src=\"https://colab.research.google.com/assets/colab-badge.svg\" alt=\"Open In Colab\"/></a>"
      ]
    },
    {
      "cell_type": "markdown",
      "source": [
        "## Practice Notebook"
      ],
      "metadata": {
        "id": "12wF6gUYT_We"
      }
    },
    {
      "cell_type": "markdown",
      "source": [
        "## Strings\n",
        "\n",
        "A string is a series of characters. In Python, anything inside \"quotes\" is a string. You can either use 'single quotes' or \"double quotes\".\n",
        "\n",
        "For more info, refer [here](https://www.w3schools.com/python/python_strings.asp)."
      ],
      "metadata": {
        "id": "OJx1Dus7hHsx"
      }
    },
    {
      "cell_type": "markdown",
      "source": [
        "####Exercise 1:\n",
        "\n",
        "Declare the values of a string variable to be 'Tests, Quizzes, Individual Labs, Group Labs and Hackathons'.\n",
        "\n",
        "\n",
        "Print the string."
      ],
      "metadata": {
        "id": "dN-JN2GeYNzP"
      }
    },
    {
      "cell_type": "code",
      "source": [
        "item1 = 'Tests, Quizzes, Individual Labs, Group Labs and Hackathons'\n",
        "print(item1)"
      ],
      "metadata": {
        "id": "PvmSKSuCYAzn"
      },
      "execution_count": null,
      "outputs": []
    },
    {
      "cell_type": "markdown",
      "source": [
        "####Exercise 2:\n",
        "\n",
        "Declare the values of a string variable to be \"I need Tables, Chairs, Cupboards\", in double qoutes. \n",
        "\n",
        "Print the string."
      ],
      "metadata": {
        "id": "_5P3baVHXixq"
      }
    },
    {
      "cell_type": "code",
      "execution_count": null,
      "metadata": {
        "id": "TRkcTF71T1PO"
      },
      "outputs": [],
      "source": [
        "item2 = '\"I need Tables, Chairs, Cupboards\"'\n",
        "print(item2)"
      ]
    },
    {
      "cell_type": "markdown",
      "source": [
        "####Exercise 3:\n",
        "\n",
        "Concatenate the two string variables declared in Exercise 1 and Exercise 2."
      ],
      "metadata": {
        "id": "-_F548p0cm-Y"
      }
    },
    {
      "cell_type": "code",
      "source": [
        "concatenate_1 = item1 + item2\n",
        "print(concatenate_1)"
      ],
      "metadata": {
        "id": "JEdJQUBkcUHe"
      },
      "execution_count": null,
      "outputs": []
    },
    {
      "cell_type": "markdown",
      "source": [
        "####Exercise 4:\n",
        "\n",
        "Write a short note on any topic in python and print the note using single `print` statement."
      ],
      "metadata": {
        "id": "BsMn8suiZSMr"
      }
    },
    {
      "cell_type": "code",
      "source": [
        "note = \"\"\"Triple quoted strings are best used for documentation. They are also useful for storing long strings.\n",
        "\n",
        "1. We can use single or double quotes\n",
        "2. We can also use single quotes or double quotes within\n",
        "3. The line breaks etc are captured.\"\"\"\n",
        "print(note)"
      ],
      "metadata": {
        "id": "ndGfCaAMZEyj"
      },
      "execution_count": null,
      "outputs": []
    },
    {
      "cell_type": "markdown",
      "source": [
        "####Exercise 5:\n",
        "\n",
        "* Concatenate the output of the string in Exercise 3 and output of the string in Exercise 1.\n",
        "* Print the length of the concatenated string.\n"
      ],
      "metadata": {
        "id": "bpzOBwWjdUbO"
      }
    },
    {
      "cell_type": "code",
      "source": [
        "concatenate_2 = concatenate_1 + item1\n",
        "print(concatenate_2)\n",
        "print(len(concatenate_2))"
      ],
      "metadata": {
        "id": "ScREMvsJd4Ig"
      },
      "execution_count": null,
      "outputs": []
    },
    {
      "cell_type": "markdown",
      "source": [
        "#### Exercies 6:\n",
        "\n",
        "Perform simple string operations for A = \"Hello\", B = \"world!\":\n",
        " * Concatenate by +.\n",
        " * Multiple concatenation by *  (ex: 4 * A + \" \" * 3 + B * 2).\n",
        " * Check for substring with `in`.\n",
        " * Determine the size (number of characters) using `len`."
      ],
      "metadata": {
        "id": "zrvj2kICovvo"
      }
    },
    {
      "cell_type": "code",
      "source": [
        "A = \"Hello\"\n",
        "B = \"world!\"\n",
        "AB = A + B\n",
        "print(AB)\n",
        "print(\"=================================\")\n",
        "h4s3w2 = 4 * A + \" \" * 3 + B * 2\n",
        "print(h4s3w2)\n",
        "\n",
        "print(\"=================================\")\n",
        "print(A in h4s3w2)\n",
        "print(\"=================================\")\n",
        "print(len(AB))"
      ],
      "metadata": {
        "id": "mUwqIlhnpBPe"
      },
      "execution_count": null,
      "outputs": []
    },
    {
      "cell_type": "markdown",
      "source": [
        "####Exercies 7:\n",
        "\n",
        "For given variable name = 'hELLO, WORLD!', perform the following:\n",
        "* Print the character '!'. \n",
        "* Convert the string to lowercase.\n",
        "* Print the first character in upper case.\n",
        "* Print a string where all the upper case letters are lower case and vice versa.\n"
      ],
      "metadata": {
        "id": "t_RU_DjFqMF-"
      }
    },
    {
      "cell_type": "code",
      "source": [
        "name = 'hELLO, WORLD!'\n",
        "print(name[12])"
      ],
      "metadata": {
        "id": "JeDkZaQxpamY"
      },
      "execution_count": null,
      "outputs": []
    },
    {
      "cell_type": "code",
      "source": [
        "# The lower() method returns a string converted to lowercase.\n",
        "lowercase_name = name.lower()\n",
        "\n",
        "print(lowercase_name)"
      ],
      "metadata": {
        "id": "B8n5iU_-snKH"
      },
      "execution_count": null,
      "outputs": []
    },
    {
      "cell_type": "code",
      "source": [
        "print(name.capitalize())"
      ],
      "metadata": {
        "id": "8d0wOfi3Zsd-"
      },
      "execution_count": null,
      "outputs": []
    },
    {
      "cell_type": "code",
      "source": [
        "print(name.swapcase())"
      ],
      "metadata": {
        "id": "hYOmJNw4aOL9"
      },
      "execution_count": null,
      "outputs": []
    },
    {
      "cell_type": "markdown",
      "source": [
        "#### Exercies 8:\n",
        "\n",
        "For a given string,  perform the following:\n",
        "* Using `for` to iterate over a string in Python.\n",
        "* Print the number of times the letter/character ‘s’ appears in a string."
      ],
      "metadata": {
        "id": "3wNoT59o2HAi"
      }
    },
    {
      "cell_type": "code",
      "source": [
        "a = \"Python Classes\"\n",
        "for char in a:\n",
        "   print(char)"
      ],
      "metadata": {
        "id": "C52n7pwL0_dZ"
      },
      "execution_count": null,
      "outputs": []
    },
    {
      "cell_type": "code",
      "source": [
        "a  = \"Python Classes\"\n",
        "count = 0\n",
        "for letter in a:\n",
        "    if letter == 's':\n",
        "        count = count +1\n",
        "print(count)"
      ],
      "metadata": {
        "id": "5zjqFGxI3Epa"
      },
      "execution_count": null,
      "outputs": []
    },
    {
      "cell_type": "markdown",
      "source": [
        "#### Exercies 9:\n",
        "\n",
        "For a given list, perform the following:\n",
        "\n",
        "* Print the list in reverse oder.\n",
        "\n",
        "* Print the following my_list[-1].\n",
        "\n",
        "* Print the following output  [2, 33, 222, 14] using slice method."
      ],
      "metadata": {
        "id": "LelhQmty6yac"
      }
    },
    {
      "cell_type": "code",
      "source": [
        "my_list = [2, 33, 222, 14, 25]\n",
        "print(my_list[::-1])"
      ],
      "metadata": {
        "id": "62p4fL9g-5rH"
      },
      "execution_count": null,
      "outputs": []
    },
    {
      "cell_type": "code",
      "source": [
        "my_list = [2, 33, 222, 14, 25]\n",
        "print(my_list[-1])"
      ],
      "metadata": {
        "id": "2-tNVH8R4lIC"
      },
      "execution_count": null,
      "outputs": []
    },
    {
      "cell_type": "code",
      "source": [
        "my_list = [2, 33, 222, 14, 25]\n",
        "print(my_list[:-1])"
      ],
      "metadata": {
        "id": "HTkPuU97-x0C"
      },
      "execution_count": null,
      "outputs": []
    },
    {
      "cell_type": "markdown",
      "source": [
        "#### Exercies 10:\n",
        "\n",
        "For given string, perform following methods:\n",
        "\n",
        "* Split the string by using 'word.split' and print the result.\n",
        "* Replace MachineLearning by Python using `.replace()`."
      ],
      "metadata": {
        "id": "iXRD9t9QaXRF"
      }
    },
    {
      "cell_type": "code",
      "source": [
        "word=\"MachineLearning career\"\n",
        "print(word.split(' '))"
      ],
      "metadata": {
        "id": "TKyKwj8k_qOW"
      },
      "execution_count": null,
      "outputs": []
    },
    {
      "cell_type": "code",
      "source": [
        "x = word.replace(\"MachineLearning\",\"Python\")\n",
        "print(x)"
      ],
      "metadata": {
        "id": "4UBSAXI0cYxM"
      },
      "execution_count": null,
      "outputs": []
    }
  ]
}