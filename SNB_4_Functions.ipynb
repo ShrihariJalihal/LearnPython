{
  "nbformat": 4,
  "nbformat_minor": 0,
  "metadata": {
    "colab": {
      "provenance": [],
      "include_colab_link": true
    },
    "kernelspec": {
      "name": "python3",
      "display_name": "Python 3"
    }
  },
  "cells": [
    {
      "cell_type": "markdown",
      "metadata": {
        "id": "view-in-github",
        "colab_type": "text"
      },
      "source": [
        "<a href=\"https://colab.research.google.com/github/ShrihariJalihal/LearnPython/blob/main/SNB_4_Functions.ipynb\" target=\"_parent\"><img src=\"https://colab.research.google.com/assets/colab-badge.svg\" alt=\"Open In Colab\"/></a>"
      ]
    },
    {
      "cell_type": "markdown",
      "source": [
        "## Practice Notebook\n",
        "\n",
        "\n"
      ],
      "metadata": {
        "id": "z3HaSE94quKx"
      }
    },
    {
      "cell_type": "markdown",
      "source": [
        "#### Functions\n",
        "Functions are very easy to write in python and all non-trivial programs will have functions. Function names have the same rules as variable names.\n",
        "\n",
        "#### Built in Functions\n",
        "Python comes with a nice set of built-in functions\n",
        "The complete set can be seen at:https://docs.python.org/3.6/library/functions.html\n",
        "We take a look at the most used ones here. We have clustered and classified them for better understanding."
      ],
      "metadata": {
        "id": "cjtwSnDTNwpI"
      }
    },
    {
      "cell_type": "markdown",
      "metadata": {
        "id": "gRs6bMS-YUgN"
      },
      "source": [
        "#### Exercise 01: Build a function that takes the below string as a parameter and returns the words in the given string in backward order.\n",
        "\n",
        "Hint: [Split the words and join them in the reverse order using ' '.join(iterable)](https://docs.python.org/3/library/stdtypes.html)"
      ]
    },
    {
      "cell_type": "code",
      "metadata": {
        "id": "7zS2WRHBYUgR"
      },
      "source": [
        "string1 = \"my name is johnny\""
      ],
      "execution_count": null,
      "outputs": []
    },
    {
      "cell_type": "code",
      "metadata": {
        "id": "8YbeeR45dDAJ"
      },
      "source": [
        "## YOUR CODE HERE\n",
        "def rev_sentence(sentence):\n",
        "    words = sentence.split(' ')\n",
        "    reverse_sentence = ' '.join(words[::-1])    \n",
        "    return reverse_sentence\n",
        "\n",
        "rev_sentence(string1)"
      ],
      "execution_count": null,
      "outputs": []
    },
    {
      "cell_type": "markdown",
      "metadata": {
        "id": "QmjnX-rNkxxe"
      },
      "source": [
        "#### Exercise 02: For the given tuple of numbers, do the following:\n",
        "* Write a function which takes an integer 'N' as a parameter and returns the sum of multiples of 3 or 5 between 0 and N (limit). Where N is any element from the given tuple.\n",
        "* Print all the sum of multiples for each element from the tuple.\n",
        "* Example: If we list all the natural numbers less than 10 that are multiples of 3 or 5, we get 3, 5, 6, and 9 and their sum is 23"
      ]
    },
    {
      "cell_type": "code",
      "metadata": {
        "id": "8aEXBfFAlXhD"
      },
      "source": [
        "tuple2 = (10, 20, 30, 40, 50)"
      ],
      "execution_count": null,
      "outputs": []
    },
    {
      "cell_type": "code",
      "metadata": {
        "id": "GpyN1zSKRS-_"
      },
      "source": [
        "## YOUR CODE HERE\n",
        "def getMultiples(N):\n",
        "  sum = 0\n",
        "  for i in range(1,N):\n",
        "    if i%3==0 or i%5==0:\n",
        "      sum += i\n",
        "  return sum\n",
        "\n",
        "[getMultiples(each) for each in tuple2]"
      ],
      "execution_count": null,
      "outputs": []
    },
    {
      "cell_type": "markdown",
      "metadata": {
        "id": "Eush4rnY_Gy2"
      },
      "source": [
        "#### Exercise 03: Build a function to print prime numbers within the given range."
      ]
    },
    {
      "cell_type": "code",
      "metadata": {
        "id": "XOWLvObDvVNQ"
      },
      "source": [
        "## YOUR CODE HERE\n",
        "limit = 20\n",
        "\n",
        "[x for x in range(2, limit) if all(x % y != 0 for y in range(2, x))]"
      ],
      "execution_count": null,
      "outputs": []
    },
    {
      "cell_type": "markdown",
      "metadata": {
        "id": "JoecaqnzRahf"
      },
      "source": [
        "#### Exercise 4: Rock Paper Scissors: Complete the function below that takes the given input word as a parameter and selects a random element from the words list. It then prints the random word within the function and returns a string, declaring 'win' or 'lose' or 'tie'.\n",
        "\n",
        "Example: Random input= 'Scissors', User input= Paper, Output = 'lose'\n",
        "\n",
        "Hint: [random.choice](https://docs.python.org/3/library/random.html)"
      ]
    },
    {
      "cell_type": "code",
      "metadata": {
        "id": "-hXoV_CdR9Os"
      },
      "source": [
        "import random\n",
        "words = ['Rock','Paper','Scissors']\n",
        "input  = 'Paper'\n",
        "\n",
        "def game(input):\n",
        "  ## Complete the function\n",
        "  choice = random.choice(words)\n",
        "  print('The random choice was:',choice)  \n",
        "  if choice == input:\n",
        "    print('Its a Tie')\n",
        "  elif choice == words[0]:\n",
        "    print('You Win')\n",
        "  else:\n",
        "    print('You Lose')\n",
        "  return None\n",
        "\n",
        "game(input)"
      ],
      "execution_count": null,
      "outputs": []
    },
    {
      "cell_type": "markdown",
      "source": [
        "#### Exercise 05: Extract maximum value of each element in the given list using the built-in max function.\n",
        "\n",
        "\n",
        "\n",
        "Hint: [max(iterable)](https://docs.python.org/3/library/functions.html#max)"
      ],
      "metadata": {
        "id": "tQOfYzymO4ek"
      }
    },
    {
      "cell_type": "code",
      "source": [
        "list1 = [[1,2,4],[5,6],[8,9,12],[21,44],[121]]"
      ],
      "metadata": {
        "id": "mP0ba14iO7JT"
      },
      "execution_count": null,
      "outputs": []
    },
    {
      "cell_type": "code",
      "source": [
        "## YOUR CODE HERE\n",
        "[max(each) for each in list1]"
      ],
      "metadata": {
        "id": "Vj3mGI5bO_Pq"
      },
      "execution_count": null,
      "outputs": []
    },
    {
      "cell_type": "markdown",
      "source": [
        "#### Exercise 06: For given list *a* and *b* perform the following Aggregate Functions\n",
        "* len(iterable)\n",
        "* max(iterable)\n",
        "* min(iterable)\n",
        "* sorted(iterable)\n",
        "* sum(iterable)\n",
        "\n",
        "**Note:** Refer to the python built-in functions documentation [link](https://docs.python.org/3/library/functions.html) for the above Aggregate functions to the additional paramters for example., key, reverse etc.."
      ],
      "metadata": {
        "id": "NsrffgW5PFvL"
      }
    },
    {
      "cell_type": "code",
      "source": [
        "a = [1, 2, 3, 4, 5, 6, 7, 8, 9, 10]\n",
        "b = [5,10, 15, 20, 25, 30, 35, 40, 45, 50]"
      ],
      "metadata": {
        "id": "liPmIx_mPWVM"
      },
      "execution_count": null,
      "outputs": []
    },
    {
      "cell_type": "code",
      "source": [
        "print(\"Finding len of a and b\", len(a), len(b))\n",
        "print(\"Max values of a and b\", max(a), max(b))\n",
        "print(\"Min values of a and b\",(min(a), min(b)))\n",
        "print(\"Sorted values of a and b\",sorted(a), sorted(b))\n",
        "print(\"Sorted values of a and b\",sorted(a), sorted(b))\n",
        "print(\"Sum of the values of a and b\",sum(a), sum(b))"
      ],
      "metadata": {
        "colab": {
          "base_uri": "https://localhost:8080/"
        },
        "id": "_8E9DUwqPeTB",
        "outputId": "4c20834f-7f06-42f7-d8f6-971769d02696"
      },
      "execution_count": null,
      "outputs": [
        {
          "output_type": "stream",
          "name": "stdout",
          "text": [
            "Finding len of a and b 10 10\n",
            "Max values of a and b 10 50\n",
            "Min values of a and b (1, 5)\n",
            "Sorted values of a and b [1, 2, 3, 4, 5, 6, 7, 8, 9, 10] [5, 10, 15, 20, 25, 30, 35, 40, 45, 50]\n",
            "Sorted values of a and b [1, 2, 3, 4, 5, 6, 7, 8, 9, 10] [5, 10, 15, 20, 25, 30, 35, 40, 45, 50]\n",
            "Sum of the values of a and b 55 275\n"
          ]
        }
      ]
    },
    {
      "cell_type": "markdown",
      "source": [
        "#### Exercise 07: Print the data type of x, y and z  values "
      ],
      "metadata": {
        "id": "yerVE_tzVG39"
      }
    },
    {
      "cell_type": "code",
      "source": [
        "x = 10\n",
        "print(\"x is of type:\",type(x))\n",
        "\n",
        "y = 12.6\n",
        "print(\"y is of type:\",type(y))\n",
        "  \n",
        "z = x + y  \n",
        "print(z)\n",
        "print(\"z is of type:\",type(z))"
      ],
      "metadata": {
        "colab": {
          "base_uri": "https://localhost:8080/"
        },
        "id": "xeR5yEdnPphw",
        "outputId": "48362bbd-60be-489e-bfb9-891b718c9d70"
      },
      "execution_count": null,
      "outputs": [
        {
          "output_type": "stream",
          "name": "stdout",
          "text": [
            "x is of type: <class 'int'>\n",
            "y is of type: <class 'float'>\n",
            "22.6\n",
            "z is of type: <class 'float'>\n"
          ]
        }
      ]
    },
    {
      "cell_type": "markdown",
      "source": [
        "Exercise 08:  Initializ the string and perform the following:\n",
        "\n",
        "1. Check the type of string\n",
        "2. convert string to int and check the type"
      ],
      "metadata": {
        "id": "SaPsPE9Idbqn"
      }
    },
    {
      "cell_type": "code",
      "source": [
        "a = '1234'\n",
        "print(type(a))\n",
        "\n",
        "ival = int(a)\n",
        "print(type(ival))\n",
        "\n"
      ],
      "metadata": {
        "colab": {
          "base_uri": "https://localhost:8080/"
        },
        "id": "NRBsQnHMVas6",
        "outputId": "bc83031b-2e5d-4fe8-9186-83d17eab807f"
      },
      "execution_count": null,
      "outputs": [
        {
          "output_type": "stream",
          "name": "stdout",
          "text": [
            "<class 'str'>\n",
            "<class 'int'>\n"
          ]
        }
      ]
    },
    {
      "cell_type": "code",
      "source": [],
      "metadata": {
        "id": "9RUhtfSngtQx"
      },
      "execution_count": null,
      "outputs": []
    }
  ]
}