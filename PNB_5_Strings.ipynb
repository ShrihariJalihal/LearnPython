{
  "nbformat": 4,
  "nbformat_minor": 0,
  "metadata": {
    "colab": {
      "provenance": [],
      "include_colab_link": true
    },
    "kernelspec": {
      "name": "python3",
      "display_name": "Python 3"
    },
    "language_info": {
      "name": "python"
    }
  },
  "cells": [
    {
      "cell_type": "markdown",
      "metadata": {
        "id": "view-in-github",
        "colab_type": "text"
      },
      "source": [
        "<a href=\"https://colab.research.google.com/github/ShrihariJalihal/LearnPython/blob/main/PNB_5_Strings.ipynb\" target=\"_parent\"><img src=\"https://colab.research.google.com/assets/colab-badge.svg\" alt=\"Open In Colab\"/></a>"
      ]
    },
    {
      "cell_type": "markdown",
      "source": [
        "## Practice Notebook"
      ],
      "metadata": {
        "id": "12wF6gUYT_We"
      }
    },
    {
      "cell_type": "markdown",
      "source": [
        "## Strings\n",
        "\n",
        "A string is a series of characters. In Python, anything inside \"quotes\" is a string. You can either use 'single quotes' or \"double quotes\".\n",
        "\n",
        "For more info, refer [here](https://www.w3schools.com/python/python_strings.asp)."
      ],
      "metadata": {
        "id": "OJx1Dus7hHsx"
      }
    },
    {
      "cell_type": "markdown",
      "source": [
        "####Exercise 1:\n",
        "\n",
        "Declare the values of a string variable to be 'Tests, Quizzes, Individual Labs, Group Labs and Hackathons'.\n",
        "\n",
        "\n",
        "Print the string."
      ],
      "metadata": {
        "id": "dN-JN2GeYNzP"
      }
    },
    {
      "cell_type": "code",
      "source": [
        "# YOUR CODE HERE\n",
        "strVal = 'Tests, Quizzes, Individual Labs, Group Labs and Hackathons'"
      ],
      "metadata": {
        "id": "PvmSKSuCYAzn"
      },
      "execution_count": null,
      "outputs": []
    },
    {
      "cell_type": "markdown",
      "source": [
        "####Exercise 2:\n",
        "\n",
        "Declare the values of a string variable to be \"I need Tables, Chairs, Cupboards\", in double qoutes. \n",
        "\n",
        "Print the string."
      ],
      "metadata": {
        "id": "_5P3baVHXixq"
      }
    },
    {
      "cell_type": "code",
      "execution_count": null,
      "metadata": {
        "id": "TRkcTF71T1PO"
      },
      "outputs": [],
      "source": [
        "# YOUR CODE HERE\n",
        "strVal2 = \"I need Tables, Chairs, Cupboards\""
      ]
    },
    {
      "cell_type": "markdown",
      "source": [
        "####Exercise 3:\n",
        "\n",
        "Concatenate the two string variables declared in Exercise 1 and Exercise 2."
      ],
      "metadata": {
        "id": "-_F548p0cm-Y"
      }
    },
    {
      "cell_type": "code",
      "source": [
        "# YOUR CODE HERE\n",
        "strVal3 = strVal + strVal2"
      ],
      "metadata": {
        "id": "JEdJQUBkcUHe"
      },
      "execution_count": null,
      "outputs": []
    },
    {
      "cell_type": "markdown",
      "source": [
        "####Exercise 4:\n",
        "\n",
        "Write a short note on any topic in python and print the note using single `print` statement."
      ],
      "metadata": {
        "id": "BsMn8suiZSMr"
      }
    },
    {
      "cell_type": "code",
      "source": [
        "# YOUR CODE HERE\n",
        "print(strVal3)"
      ],
      "metadata": {
        "id": "ndGfCaAMZEyj",
        "outputId": "b431cb40-255b-406e-9344-b3d9ff5b4b20",
        "colab": {
          "base_uri": "https://localhost:8080/"
        }
      },
      "execution_count": null,
      "outputs": [
        {
          "output_type": "stream",
          "name": "stdout",
          "text": [
            "Tests, Quizzes, Individual Labs, Group Labs and HackathonsI need Tables, Chairs, Cupboards\n"
          ]
        }
      ]
    },
    {
      "cell_type": "markdown",
      "source": [
        "####Exercise 5:\n",
        "\n",
        "* Concatenate the output of the string in Exercise 3 and output of the string in Exercise 1.\n",
        "* Print the length of the concatenated string.\n"
      ],
      "metadata": {
        "id": "bpzOBwWjdUbO"
      }
    },
    {
      "cell_type": "code",
      "source": [
        "# YOUR CODE HERE\n",
        "print(strVal3, len(strVal3))\n",
        "print(strVal, len(strVal))"
      ],
      "metadata": {
        "id": "ScREMvsJd4Ig",
        "outputId": "cbed0029-e05d-4133-c596-a365285c3d13",
        "colab": {
          "base_uri": "https://localhost:8080/"
        }
      },
      "execution_count": null,
      "outputs": [
        {
          "output_type": "stream",
          "name": "stdout",
          "text": [
            "Tests, Quizzes, Individual Labs, Group Labs and HackathonsI need Tables, Chairs, Cupboards 90\n",
            "Tests, Quizzes, Individual Labs, Group Labs and Hackathons 58\n"
          ]
        }
      ]
    },
    {
      "cell_type": "markdown",
      "source": [
        "#### Exercies 6:\n",
        "\n",
        "Perform simple string operations for A = \"Hello\", B = \"world!\":\n",
        " * Concatenate by +.\n",
        " * Multiple concatenation by *  (ex: 4 * A + \" \" * 3 + B * 2).\n",
        " * Check for substring with `in`.\n",
        " * Determine the size (number of characters) using `len`."
      ],
      "metadata": {
        "id": "zrvj2kICovvo"
      }
    },
    {
      "cell_type": "code",
      "source": [
        "# YOUR CODE HERE\n",
        "A = \"Hello\"\n",
        "B = \"world!\"\n",
        "\n",
        "AB = A+B;\n",
        "print(AB);\n",
        "multipliedValue = 4 * A + \" \" * 3 + B * 2\n",
        "print (multipliedValue)\n",
        "\n",
        "print(A in multipliedValue)\n",
        "print(len(AB))"
      ],
      "metadata": {
        "id": "mUwqIlhnpBPe",
        "outputId": "5a8b266e-dae7-4f2e-f749-8cc8f7d3562f",
        "colab": {
          "base_uri": "https://localhost:8080/"
        }
      },
      "execution_count": 26,
      "outputs": [
        {
          "output_type": "stream",
          "name": "stdout",
          "text": [
            "Helloworld!\n",
            "HelloHelloHelloHello   world!world!\n",
            "True\n",
            "11\n"
          ]
        }
      ]
    },
    {
      "cell_type": "markdown",
      "source": [
        "####Exercies 7:\n",
        "\n",
        "For the given variable name = 'hELLO, WORLD!', perform the following:\n",
        "* Print the character '!'. \n",
        "* Convert the string to lowercase.\n",
        "* Print the first character in upper case.\n",
        "* Print a string where all the upper case letters are lower case and vice versa.\n"
      ],
      "metadata": {
        "id": "t_RU_DjFqMF-"
      }
    },
    {
      "cell_type": "code",
      "source": [],
      "metadata": {
        "id": "8VPXbnIlR1Vu"
      },
      "execution_count": null,
      "outputs": []
    },
    {
      "cell_type": "code",
      "source": [
        "name = 'hELLO, WORLD!'\n",
        "# YOUR CODE HERE\n",
        "print(name[12])"
      ],
      "metadata": {
        "id": "JeDkZaQxpamY",
        "colab": {
          "base_uri": "https://localhost:8080/"
        },
        "outputId": "110c7e28-ad5c-49f1-c1fc-de4e5dbaf43d"
      },
      "execution_count": 27,
      "outputs": [
        {
          "output_type": "stream",
          "name": "stdout",
          "text": [
            "!\n"
          ]
        }
      ]
    },
    {
      "cell_type": "code",
      "source": [
        "# The lower() method returns a string converted to lowercase.\n",
        "# YOUR CODE HERE\n",
        "print(name.lower())"
      ],
      "metadata": {
        "id": "B8n5iU_-snKH",
        "colab": {
          "base_uri": "https://localhost:8080/"
        },
        "outputId": "7cd44a16-7c09-43cf-e797-dae8d7a41733"
      },
      "execution_count": 2,
      "outputs": [
        {
          "output_type": "stream",
          "name": "stdout",
          "text": [
            "hello, world!\n"
          ]
        }
      ]
    },
    {
      "cell_type": "code",
      "source": [
        "# YOUR CODE HERE\n",
        "print(name.capitalize())"
      ],
      "metadata": {
        "id": "8d0wOfi3Zsd-",
        "colab": {
          "base_uri": "https://localhost:8080/"
        },
        "outputId": "fadd17cd-64ab-4beb-cef1-b948052e1b68"
      },
      "execution_count": 28,
      "outputs": [
        {
          "output_type": "stream",
          "name": "stdout",
          "text": [
            "Hello, world!\n"
          ]
        }
      ]
    },
    {
      "cell_type": "code",
      "source": [
        "# YOUR CODE HERE\n",
        "print (name.swapcase())"
      ],
      "metadata": {
        "id": "hYOmJNw4aOL9",
        "colab": {
          "base_uri": "https://localhost:8080/"
        },
        "outputId": "dd6238d3-ec71-4521-b972-5c97751dce2f"
      },
      "execution_count": 4,
      "outputs": [
        {
          "output_type": "stream",
          "name": "stdout",
          "text": [
            "Hello, world!\n"
          ]
        }
      ]
    },
    {
      "cell_type": "markdown",
      "source": [
        "#### Exercies 8:\n",
        "\n",
        "For a given string, perform the following:\n",
        "* Using `for` to iterate over a string in Python.\n",
        "* Print the number of times the letter/character ‘s’ appears in a string."
      ],
      "metadata": {
        "id": "3wNoT59o2HAi"
      }
    },
    {
      "cell_type": "code",
      "source": [
        "# YOUR CODE HERE\n",
        "itreatingString = \"TESTING the string Iterations with for loop\"\n",
        "count = 0;\n",
        "for c in itreatingString :\n",
        "  if (c == 's') :\n",
        "    count += 1\n",
        "print(\"Char s appears: \",count, \"times in given string\")"
      ],
      "metadata": {
        "id": "C52n7pwL0_dZ",
        "colab": {
          "base_uri": "https://localhost:8080/"
        },
        "outputId": "127eb31e-cc18-42c2-9c49-7d111458dd73"
      },
      "execution_count": 9,
      "outputs": [
        {
          "output_type": "stream",
          "name": "stdout",
          "text": [
            "Char s appears:  2 times in given string\n"
          ]
        }
      ]
    },
    {
      "cell_type": "code",
      "source": [
        "# YOUR CODE HERE"
      ],
      "metadata": {
        "id": "5zjqFGxI3Epa"
      },
      "execution_count": null,
      "outputs": []
    },
    {
      "cell_type": "markdown",
      "source": [
        "#### Exercies 9:\n",
        "\n",
        "For a given list, perform the following:\n",
        "\n",
        "* Print the list in reverse oder.\n",
        "\n",
        "* Print the following my_list[-1].\n",
        "\n",
        "* Print the following output  [2, 33, 222, 14] using slice method."
      ],
      "metadata": {
        "id": "LelhQmty6yac"
      }
    },
    {
      "cell_type": "code",
      "source": [
        "my_list = [2, 33, 222, 14, 25]\n",
        "# YOUR CODE HERE\n",
        "my_list.reverse()\n",
        "print(my_list)\n"
      ],
      "metadata": {
        "id": "62p4fL9g-5rH",
        "colab": {
          "base_uri": "https://localhost:8080/"
        },
        "outputId": "89f0b57d-3a20-452f-d5ff-8a91b6fba9b6"
      },
      "execution_count": 15,
      "outputs": [
        {
          "output_type": "stream",
          "name": "stdout",
          "text": [
            "[25, 14, 222, 33, 2]\n"
          ]
        }
      ]
    },
    {
      "cell_type": "code",
      "source": [
        "my_list = [2, 33, 222, 14, 25]\n",
        "# YOUR CODE HERE\n",
        "for item in my_list[::-1] :\n",
        "  print(item)\n"
      ],
      "metadata": {
        "id": "2-tNVH8R4lIC",
        "colab": {
          "base_uri": "https://localhost:8080/"
        },
        "outputId": "53292d9b-bac5-48c5-8feb-1cf025109f93"
      },
      "execution_count": 16,
      "outputs": [
        {
          "output_type": "stream",
          "name": "stdout",
          "text": [
            "25\n",
            "14\n",
            "222\n",
            "33\n",
            "2\n"
          ]
        }
      ]
    },
    {
      "cell_type": "code",
      "source": [
        "my_list = [2, 33, 222, 14, 25]\n",
        "# YOUR CODE HERE\n",
        "print(my_list[:-1])"
      ],
      "metadata": {
        "id": "HTkPuU97-x0C",
        "colab": {
          "base_uri": "https://localhost:8080/"
        },
        "outputId": "534961c6-598d-4126-9060-ff624c48701e"
      },
      "execution_count": 29,
      "outputs": [
        {
          "output_type": "stream",
          "name": "stdout",
          "text": [
            "[2, 33, 222, 14]\n"
          ]
        }
      ]
    },
    {
      "cell_type": "markdown",
      "source": [
        "#### Exercies 10:\n",
        "\n",
        "For the given string, perform following methods:\n",
        "\n",
        "* Split the string by using 'word.split' and print the result.\n",
        "* Replace MachineLearning by Python using `.replace()`."
      ],
      "metadata": {
        "id": "iXRD9t9QaXRF"
      }
    },
    {
      "cell_type": "code",
      "source": [
        "# YOUR CODE HERE\n",
        "splitString = \"TESTING the word split MachineLearning\"\n",
        "print(splitString.split())\n"
      ],
      "metadata": {
        "id": "qWaaIZ5EVz-_",
        "colab": {
          "base_uri": "https://localhost:8080/"
        },
        "outputId": "55a4a0dc-ce45-41a4-9ea4-c39f52e430dd"
      },
      "execution_count": 24,
      "outputs": [
        {
          "output_type": "stream",
          "name": "stdout",
          "text": [
            "['TESTING', 'the', 'word', 'split', 'MachineLearning']\n"
          ]
        }
      ]
    },
    {
      "cell_type": "code",
      "source": [
        "# YOUR CODE HERE\n",
        "splitString = \"TESTING the word split MachineLearning\"\n",
        "print(splitString.replace(\"MachineLearning\", \"####\"))"
      ],
      "metadata": {
        "id": "TIyyhrYrV15M",
        "colab": {
          "base_uri": "https://localhost:8080/"
        },
        "outputId": "c391eb61-8643-45e4-89be-e94f5a063802"
      },
      "execution_count": 25,
      "outputs": [
        {
          "output_type": "stream",
          "name": "stdout",
          "text": [
            "TESTING the word split ####\n"
          ]
        }
      ]
    }
  ]
}