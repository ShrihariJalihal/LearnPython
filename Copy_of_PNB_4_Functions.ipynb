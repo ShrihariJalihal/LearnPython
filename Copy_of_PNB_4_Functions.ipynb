{
  "nbformat": 4,
  "nbformat_minor": 0,
  "metadata": {
    "colab": {
      "provenance": [],
      "include_colab_link": true
    },
    "kernelspec": {
      "name": "python3",
      "display_name": "Python 3"
    }
  },
  "cells": [
    {
      "cell_type": "markdown",
      "metadata": {
        "id": "view-in-github",
        "colab_type": "text"
      },
      "source": [
        "<a href=\"https://colab.research.google.com/github/ShrihariJalihal/LearnPython/blob/main/Copy_of_PNB_4_Functions.ipynb\" target=\"_parent\"><img src=\"https://colab.research.google.com/assets/colab-badge.svg\" alt=\"Open In Colab\"/></a>"
      ]
    },
    {
      "cell_type": "markdown",
      "source": [
        "## Practice Notebook\n",
        "\n",
        "\n"
      ],
      "metadata": {
        "id": "z3HaSE94quKx"
      }
    },
    {
      "cell_type": "markdown",
      "source": [
        "#### Manually Created Functions\n",
        "Functions are very easy to write in python and all non-trivial programs have functions. Function names have the same rules as variable names.\n",
        "\n",
        "#### Built in Functions\n",
        "Python comes with a nice set of built-in functions\n",
        "The complete set can be seen at:https://docs.python.org/3.6/library/functions.html\n",
        "\n",
        "We take a look at the most used ones here. "
      ],
      "metadata": {
        "id": "cjtwSnDTNwpI"
      }
    },
    {
      "cell_type": "markdown",
      "source": [
        "## Manually Created Functions"
      ],
      "metadata": {
        "id": "icKsHSwnULhw"
      }
    },
    {
      "cell_type": "markdown",
      "metadata": {
        "id": "gRs6bMS-YUgN"
      },
      "source": [
        "#### Exercise 01: Build a function that takes the below string as a parameter and returns the words in the given string in backward order.\n",
        "\n",
        "Hint: [Split the words and join them in the reverse order using ' '.join(iterable)](https://docs.python.org/3/library/stdtypes.html)"
      ]
    },
    {
      "cell_type": "code",
      "metadata": {
        "id": "7zS2WRHBYUgR"
      },
      "source": [
        "string1 = \"my name is johnny\""
      ],
      "execution_count": 1,
      "outputs": []
    },
    {
      "cell_type": "code",
      "metadata": {
        "id": "8YbeeR45dDAJ",
        "colab": {
          "base_uri": "https://localhost:8080/",
          "height": 35
        },
        "outputId": "58e8f671-a5e3-4a7d-bf9a-edb261b9e091"
      },
      "source": [
        "## YOUR CODE HERE\n",
        "def reverse_words(input_str) :\n",
        "  \n",
        "  return \" \".join(input_str.split(\" \")[::-1]);\n",
        "reverse_words(string1)"
      ],
      "execution_count": 3,
      "outputs": [
        {
          "output_type": "execute_result",
          "data": {
            "text/plain": [
              "'johnny is name my'"
            ],
            "application/vnd.google.colaboratory.intrinsic+json": {
              "type": "string"
            }
          },
          "metadata": {},
          "execution_count": 3
        }
      ]
    },
    {
      "cell_type": "markdown",
      "metadata": {
        "id": "QmjnX-rNkxxe"
      },
      "source": [
        "#### Exercise 02: For the given tuple of numbers, do the following:\n",
        "* Write a function which takes an integer 'N' as a parameter and returns the sum of multiples of 3 or 5 between 0 and N (limit). Where N is any element from the given tuple.\n",
        "* Print all the sum of multiples for each element from the tuple.\n",
        "* Example: If we list all the natural numbers less than 10 that are multiples of 3 or 5, we get 3, 5, 6, and 9 and their sum is 23"
      ]
    },
    {
      "cell_type": "code",
      "metadata": {
        "id": "8aEXBfFAlXhD"
      },
      "source": [
        "tuple2 = (10, 20, 30, 40, 50)"
      ],
      "execution_count": 2,
      "outputs": []
    },
    {
      "cell_type": "code",
      "metadata": {
        "id": "GpyN1zSKRS-_",
        "colab": {
          "base_uri": "https://localhost:8080/"
        },
        "outputId": "24ca5ffa-0c4e-4bfb-c038-0fd36679f62a"
      },
      "source": [
        "from IPython.core.interactiveshell import Integer\n",
        "## YOUR CODE HERE\n",
        "def test(numb) :\n",
        "  sum = 0\n",
        "  for i in range (0,numb) :\n",
        "    if (i%3 == 0 or i%5 == 0) :\n",
        "      sum += i;\n",
        "  return sum;\n",
        "\n",
        "[test(number) for number in tuple2]"
      ],
      "execution_count": 3,
      "outputs": [
        {
          "output_type": "execute_result",
          "data": {
            "text/plain": [
              "[23, 78, 195, 368, 543]"
            ]
          },
          "metadata": {},
          "execution_count": 3
        }
      ]
    },
    {
      "cell_type": "markdown",
      "metadata": {
        "id": "Eush4rnY_Gy2"
      },
      "source": [
        "#### Exercise 03: Build a function to print prime numbers within the given range."
      ]
    },
    {
      "cell_type": "code",
      "metadata": {
        "id": "XOWLvObDvVNQ",
        "colab": {
          "base_uri": "https://localhost:8080/"
        },
        "outputId": "9e6b2703-a7ef-4173-9da6-fd57415383d1"
      },
      "source": [
        "limit = 20\n",
        "## YOUR CODE HERE\n",
        "[x for x in range(2, limit) if all(x % y != 0 for y in range(2, x))]"
      ],
      "execution_count": 4,
      "outputs": [
        {
          "output_type": "execute_result",
          "data": {
            "text/plain": [
              "[2, 3, 5, 7, 11, 13, 17, 19]"
            ]
          },
          "metadata": {},
          "execution_count": 4
        }
      ]
    },
    {
      "cell_type": "markdown",
      "metadata": {
        "id": "JoecaqnzRahf"
      },
      "source": [
        "#### Exercise 4: Rock Paper Scissors: Complete the function below that takes the given input word as a parameter and selects a random element from the words list. It then prints the random word within the function and returns a string, declaring 'win' or 'lose' or 'tie'.\n",
        "\n",
        "Example: Random input= 'Scissors', User input= Paper, Output = 'lose'\n",
        "\n",
        "Hint: [random.choice](https://docs.python.org/3/library/random.html)"
      ]
    },
    {
      "cell_type": "code",
      "metadata": {
        "id": "-hXoV_CdR9Os",
        "colab": {
          "base_uri": "https://localhost:8080/"
        },
        "outputId": "d1c0e53e-b241-443f-b763-08ee6f3bfbf1"
      },
      "source": [
        "import random\n",
        "words = ['Rock','Paper','Scissors']\n",
        "input  = 'Paper'\n",
        "\n",
        "def game(input):\n",
        "  ## Complete the function\n",
        "  choice = random.choice(words)\n",
        "  print(choice)\n",
        "\n",
        "  if choice == input:\n",
        "    print(\"tie\")\n",
        "  elif choice == words[0] :\n",
        "    print(\"win\")\n",
        "  else :\n",
        "    print(\"loose\")\n",
        "game(\"Scissors\")"
      ],
      "execution_count": 8,
      "outputs": [
        {
          "output_type": "stream",
          "name": "stdout",
          "text": [
            "Scissors\n",
            "tie\n"
          ]
        }
      ]
    },
    {
      "cell_type": "markdown",
      "source": [
        "## Built-in Functions"
      ],
      "metadata": {
        "id": "zGN4_CEaUHs4"
      }
    },
    {
      "cell_type": "markdown",
      "source": [
        "#### Exercise 05: Extract maximum value of each element in the given list using the built-in max function.\n",
        "\n",
        "\n",
        "\n",
        "Hint: [max(iterable)](https://docs.python.org/3/library/functions.html#max)"
      ],
      "metadata": {
        "id": "tQOfYzymO4ek"
      }
    },
    {
      "cell_type": "code",
      "source": [
        "list1 = [[1,2,4],[5,6],[8,9,12],[21,44],[121]]"
      ],
      "metadata": {
        "id": "mP0ba14iO7JT"
      },
      "execution_count": 10,
      "outputs": []
    },
    {
      "cell_type": "code",
      "source": [
        "## YOUR CODE HERE\n",
        "[max(input) for input in list1]"
      ],
      "metadata": {
        "id": "Vj3mGI5bO_Pq",
        "colab": {
          "base_uri": "https://localhost:8080/"
        },
        "outputId": "6ca7c672-4e83-4a7b-cae7-3c1f8e15898e"
      },
      "execution_count": 11,
      "outputs": [
        {
          "output_type": "execute_result",
          "data": {
            "text/plain": [
              "[4, 6, 12, 44, 121]"
            ]
          },
          "metadata": {},
          "execution_count": 11
        }
      ]
    },
    {
      "cell_type": "markdown",
      "source": [
        "#### Exercise 06: For given list *a* and *b* perform the following Aggregate Functions\n",
        "* len(iterable)\n",
        "* max(iterable)\n",
        "* min(iterable)\n",
        "* sorted(iterable, key, reverse)\n",
        "* sum(iterable, start)"
      ],
      "metadata": {
        "id": "NsrffgW5PFvL"
      }
    },
    {
      "cell_type": "code",
      "source": [
        "a = [1, 2, 3, 4, 5, 6, 7, 8, 9, 10]\n",
        "b = [5,10, 15, 20, 25, 30, 35, 40, 45, 50]"
      ],
      "metadata": {
        "id": "liPmIx_mPWVM"
      },
      "execution_count": 13,
      "outputs": []
    },
    {
      "cell_type": "code",
      "source": [
        "# YOUR CODE HERE\n",
        "print(\"lenght: \",len(a), len(b))\n",
        "print(\"max\", max(a), max(b))\n",
        "print(\"min\", min(a), min(b))\n",
        "print(\"unsorted\", a, b)\n",
        "print(\"sorted\", sorted(a), sorted(b))\n",
        "print(\"Sum\", sum(a), sum(b))"
      ],
      "metadata": {
        "id": "_8E9DUwqPeTB",
        "colab": {
          "base_uri": "https://localhost:8080/"
        },
        "outputId": "dc058fd3-a04e-4212-8b17-738fc8037c96"
      },
      "execution_count": 24,
      "outputs": [
        {
          "output_type": "stream",
          "name": "stdout",
          "text": [
            "lenght:  10 10\n",
            "max 10 50\n",
            "min 1 5\n",
            "unsorted [1, 2, 3, 4, 5, 6, 7, 8, 9, 10] [5, 10, 15, 20, 25, 30, 35, 40, 45, 50]\n",
            "sorted [1, 2, 3, 4, 5, 6, 7, 8, 9, 10] [5, 10, 15, 20, 25, 30, 35, 40, 45, 50]\n",
            "Sum 55 275\n"
          ]
        }
      ]
    },
    {
      "cell_type": "markdown",
      "source": [
        "#### Exercise 07: Print the data type of x, y and z  values "
      ],
      "metadata": {
        "id": "yerVE_tzVG39"
      }
    },
    {
      "cell_type": "code",
      "source": [
        "x = 10\n",
        "# YOUR CODE HERE\n",
        "print(\"type of x\", type(x))\n",
        "y = 12.6\n",
        "# YOUR CODE HERE\n",
        "print(\"type of y\", type(y))\n",
        "y = 12.6\n",
        "z = x + y  \n",
        "# YOUR CODE HERE\n",
        "print(\"type of z\", type(z))"
      ],
      "metadata": {
        "id": "xeR5yEdnPphw",
        "colab": {
          "base_uri": "https://localhost:8080/"
        },
        "outputId": "7cc247d7-1827-4ab3-81f3-9d4cd0110302"
      },
      "execution_count": 27,
      "outputs": [
        {
          "output_type": "stream",
          "name": "stdout",
          "text": [
            "type of x <class 'int'>\n",
            "type of y <class 'float'>\n",
            "type of z <class 'float'>\n"
          ]
        }
      ]
    },
    {
      "cell_type": "markdown",
      "source": [
        "Exercise 08:  Initialize the string and perform the following:\n",
        "\n",
        "1. Check the type of string\n",
        "2. convert string to int and check the type"
      ],
      "metadata": {
        "id": "SaPsPE9Idbqn"
      }
    },
    {
      "cell_type": "code",
      "source": [
        "a = '1234'\n",
        "# YOUR CODE HERE"
      ],
      "metadata": {
        "id": "NRBsQnHMVas6"
      },
      "execution_count": 28,
      "outputs": []
    },
    {
      "cell_type": "code",
      "source": [
        "print(type(a))\n",
        "print(type(int(a)))"
      ],
      "metadata": {
        "id": "9RUhtfSngtQx",
        "colab": {
          "base_uri": "https://localhost:8080/"
        },
        "outputId": "fa7bca5f-035e-480f-a75d-0d6ee629c3a9"
      },
      "execution_count": 29,
      "outputs": [
        {
          "output_type": "stream",
          "name": "stdout",
          "text": [
            "<class 'str'>\n",
            "<class 'int'>\n"
          ]
        }
      ]
    }
  ]
}